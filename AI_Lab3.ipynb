{
  "nbformat": 4,
  "nbformat_minor": 0,
  "metadata": {
    "colab": {
      "provenance": []
    },
    "kernelspec": {
      "name": "python3",
      "display_name": "Python 3"
    },
    "language_info": {
      "name": "python"
    }
  },
  "cells": [
    {
      "cell_type": "code",
      "execution_count": 1,
      "metadata": {
        "id": "NUHRgzDzE0I7"
      },
      "outputs": [],
      "source": [
        "from collections import deque"
      ]
    },
    {
      "cell_type": "code",
      "source": [
        "graph = {\n",
        "    \"Karachi\": [\"Hyderabad\", \"Quetta\"],\n",
        "    \"Hyderabad\": [\"Karachi\", \"Sukkur\"],\n",
        "    \"Sukkur\": [\"Hyderabad\", \"Multan\"],\n",
        "    \"Multan\": [\"Sukkur\", \"Lahore\", \"Quetta\"],\n",
        "    \"Lahore\": [\"Multan\", \"Islamabad\"],\n",
        "    \"Islamabad\": [\"Lahore\", \"Peshawar\"],\n",
        "    \"Peshawar\": [\"Islamabad\", \"Quetta\"],\n",
        "    \"Quetta\": [\"Karachi\", \"Multan\", \"Peshawar\"]\n",
        "}"
      ],
      "metadata": {
        "id": "mbrFmYlQTAJ3"
      },
      "execution_count": 3,
      "outputs": []
    },
    {
      "cell_type": "code",
      "source": [
        "def bfs(graph, start):\n",
        "    visited = set()\n",
        "    queue = deque([[start]])\n",
        "\n",
        "    while queue:\n",
        "        path = queue.popleft()\n",
        "        city = path[-1]\n",
        "\n",
        "        if city not in visited:\n",
        "            print(\"BFS Visit:\", city)\n",
        "            visited.add(city)\n",
        "\n",
        "            for neighbor in graph[city]:\n",
        "                new_path = list(path)\n",
        "                new_path.append(neighbor)\n",
        "                queue.append(new_path)\n",
        "\n",
        "# -------------------\n",
        "# DFS Implementation\n",
        "# -------------------\n",
        "def dfs(graph, start):\n",
        "    visited = set()\n",
        "    stack = [[start]]\n",
        "\n",
        "    while stack:\n",
        "        path = stack.pop()\n",
        "        city = path[-1]\n",
        "\n",
        "        if city not in visited:\n",
        "            print(\"DFS Visit:\", city)\n",
        "            visited.add(city)\n",
        "\n",
        "            for neighbor in graph[city]:\n",
        "                new_path = list(path)\n",
        "                new_path.append(neighbor)\n",
        "                stack.append(new_path)\n",
        "\n",
        "# -------------------\n",
        "# Run the algorithms\n",
        "# -------------------\n",
        "print(\"Breadth First Search (BFS):\")\n",
        "bfs(graph, \"Karachi\")\n",
        "\n",
        "print(\"\\nDepth First Search (DFS):\")\n",
        "dfs(graph, \"Karachi\")"
      ],
      "metadata": {
        "colab": {
          "base_uri": "https://localhost:8080/"
        },
        "id": "ftPFMNvHTMTF",
        "outputId": "8cf9633c-1274-4a63-df86-a017e9165ed0"
      },
      "execution_count": 6,
      "outputs": [
        {
          "output_type": "stream",
          "name": "stdout",
          "text": [
            "Breadth First Search (BFS):\n",
            "BFS Visit: Karachi\n",
            "BFS Visit: Hyderabad\n",
            "BFS Visit: Quetta\n",
            "BFS Visit: Sukkur\n",
            "BFS Visit: Multan\n",
            "BFS Visit: Peshawar\n",
            "BFS Visit: Lahore\n",
            "BFS Visit: Islamabad\n",
            "\n",
            "Depth First Search (DFS):\n",
            "DFS Visit: Karachi\n",
            "DFS Visit: Quetta\n",
            "DFS Visit: Peshawar\n",
            "DFS Visit: Islamabad\n",
            "DFS Visit: Lahore\n",
            "DFS Visit: Multan\n",
            "DFS Visit: Sukkur\n",
            "DFS Visit: Hyderabad\n"
          ]
        }
      ]
    }
  ]
}