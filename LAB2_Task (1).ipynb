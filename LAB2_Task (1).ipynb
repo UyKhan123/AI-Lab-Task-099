{
  "nbformat": 4,
  "nbformat_minor": 0,
  "metadata": {
    "colab": {
      "provenance": [],
      "runtime_attributes": {
        "runtime_version": "2025.07"
      }
    },
    "kernelspec": {
      "name": "python3",
      "display_name": "Python 3"
    },
    "language_info": {
      "name": "python"
    }
  },
  "cells": [
    {
      "cell_type": "code",
      "execution_count": 28,
      "metadata": {
        "id": "30BszSotCnq8"
      },
      "outputs": [],
      "source": []
    },
    {
      "cell_type": "markdown",
      "source": [
        "Text"
      ],
      "metadata": {
        "id": "BC98mG7hCw8H"
      }
    },
    {
      "cell_type": "markdown",
      "source": [
        "Matplpotlib"
      ],
      "metadata": {
        "id": "2T3Z1GuIC32u"
      }
    },
    {
      "cell_type": "code",
      "source": [
        "import matplotlib.pyplot as plt\n",
        "\n",
        "data = [2, 4, 6, 8, 10]\n",
        "data2 = [10, 20, 30, 40, 50]\n",
        "\n",
        "plt.plot(data, data2, marker='o')\n",
        "plt.xlabel(\"X-axis values\")\n",
        "plt.ylabel(\"Y-axis values\")\n",
        "plt.title(\"Simple Line Plot\")\n",
        "plt.grid(True)\n",
        "plt.show()\n"
      ],
      "metadata": {
        "colab": {
          "base_uri": "https://localhost:8080/",
          "height": 472
        },
        "id": "QjfpHdusREUM",
        "outputId": "d8c35721-20c1-43b1-bb3b-1f13d8c70155"
      },
      "execution_count": 29,
      "outputs": [
        {
          "output_type": "display_data",
          "data": {
            "text/plain": [
              "<Figure size 640x480 with 1 Axes>"
            ],
            "image/png": "[encoded data removed]"
          },
          "metadata": {}
        }
      ]
    },
    {
      "cell_type": "markdown",
      "source": [
        "Dictionary"
      ],
      "metadata": {
        "id": "SyXkJxDZDlAb"
      }
    },
    {
      "cell_type": "code",
      "source": [
        "students = [\n",
        "    {\"Name\": \"Usama\", \"Marks\": 90},\n",
        "    {\"Name\": \"Ahmad\", \"Marks\": 80},\n",
        "    {\"Name\": \"Ali\", \"Marks\": 85}\n",
        "]\n",
        "\n",
        "print(students)\n",
        "\n",
        "students[1][\"Name\"] = \"Aslam\"\n",
        "\n",
        "print(students)\n"
      ],
      "metadata": {
        "colab": {
          "base_uri": "https://localhost:8080/"
        },
        "id": "bQLjXhMHWCk1",
        "outputId": "83117001-730c-4304-cf0b-257178be36b9"
      },
      "execution_count": 18,
      "outputs": [
        {
          "output_type": "stream",
          "name": "stdout",
          "text": [
            "[{'Name': 'Usama', 'Marks': 90}, {'Name': 'Ahmad', 'Marks': 80}, {'Name': 'Ali', 'Marks': 85}]\n",
            "[{'Name': 'Usama', 'Marks': 90}, {'Name': 'Aslam', 'Marks': 80}, {'Name': 'Ali', 'Marks': 85}]\n"
          ]
        }
      ]
    },
    {
      "cell_type": "markdown",
      "source": [
        "Numpy"
      ],
      "metadata": {
        "id": "Y1zVngdiC9ea"
      }
    },
    {
      "cell_type": "markdown",
      "source": [
        "Tuple"
      ],
      "metadata": {
        "id": "hJDkUkQCDKKf"
      }
    },
    {
      "cell_type": "code",
      "source": [
        "fistTuple  = (\"Ali\", \"Hamza\", \"Salman\")\n",
        "print(fistTuple)\n",
        "mylist = list(fistTuple)\n",
        "print(mylist)\n"
      ],
      "metadata": {
        "id": "184QR_-ANn9H",
        "colab": {
          "base_uri": "https://localhost:8080/"
        },
        "outputId": "f6ae1828-a7cf-4fd6-c7b0-d06f78922c28"
      },
      "execution_count": 1,
      "outputs": [
        {
          "output_type": "stream",
          "name": "stdout",
          "text": [
            "('Ali', 'Hamza', 'Salman')\n",
            "['Ali', 'Hamza', 'Salman']\n"
          ]
        }
      ]
    },
    {
      "cell_type": "markdown",
      "source": [
        "Set"
      ],
      "metadata": {
        "id": "lJlTkOAADMyA"
      }
    },
    {
      "cell_type": "code",
      "source": [
        "from typing import Union\n",
        "set1 = {1,2,3,4,5}\n",
        "\n",
        "set2 = {6, 7, 8,5}\n",
        "\n",
        "Union = set1.union(set2)\n",
        "print(\"Union: \",Union)\n",
        "\n",
        "Intersection = set1.intersection(set2)\n",
        "print(\"Intersection: \",Intersection)\n",
        "\n",
        "diff = set1.difference(set2)\n",
        "print(\"Difference: \",diff)\n",
        "\n",
        "set1.remove(2)\n",
        "print(set1)\n",
        "\n",
        "set2.add(9)\n",
        "print(set2)\n"
      ],
      "metadata": {
        "colab": {
          "base_uri": "https://localhost:8080/"
        },
        "id": "oA5dNyjuTrCv",
        "outputId": "a5004cd3-f5b5-4697-e783-889f9d456ed9"
      },
      "execution_count": 11,
      "outputs": [
        {
          "output_type": "stream",
          "name": "stdout",
          "text": [
            "Union:  {1, 2, 3, 4, 5, 6, 7, 8}\n",
            "Intersection:  {5}\n",
            "Difference:  {1, 2, 3, 4}\n",
            "{1, 3, 4, 5}\n",
            "{5, 6, 7, 8, 9}\n"
          ]
        }
      ]
    },
    {
      "cell_type": "markdown",
      "source": [
        "List"
      ],
      "metadata": {
        "id": "8_FqXHUjDPwJ"
      }
    },
    {
      "cell_type": "code",
      "source": [
        "list = [1,2,3,4,5,6,7,8,9,10]\n",
        "print(list)\n",
        "print('Sum: ',sum(list))\n",
        "print('Maximum: ',max(list))\n",
        "print('Minimum: ',min(list))\n"
      ],
      "metadata": {
        "id": "RlJLpGdoIjNl"
      },
      "execution_count": null,
      "outputs": []
    },
    {
      "cell_type": "markdown",
      "source": [],
      "metadata": {
        "id": "3d6xxbakDTrD"
      }
    }
  ]
}