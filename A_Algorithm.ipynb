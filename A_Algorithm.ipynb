{
  "nbformat": 4,
  "nbformat_minor": 0,
  "metadata": {
    "colab": {
      "provenance": []
    },
    "kernelspec": {
      "name": "python3",
      "display_name": "Python 3"
    },
    "language_info": {
      "name": "python"
    }
  },
  "cells": [
    {
      "cell_type": "code",
      "execution_count": 1,
      "metadata": {
        "id": "d64KH3boGAjC"
      },
      "outputs": [],
      "source": [
        "import heapq\n",
        "\n",
        "# Weighted graph (cities with distances)\n",
        "graph = {\n",
        "    \"Lahore\": {\"Islamabad\": 280, \"Faisalabad\": 160},\n",
        "    \"Islamabad\": {\"Lahore\": 280, \"Peshawar\": 170},\n",
        "    \"Faisalabad\": {\"Lahore\": 160, \"Multan\": 210},\n",
        "    \"Multan\": {\"Faisalabad\": 210, \"Karachi\": 890},\n",
        "    \"Peshawar\": {\"Islamabad\": 170},\n",
        "    \"Karachi\": {\"Multan\": 890}\n",
        "}\n",
        "\n",
        "# Heuristic values (estimated cost to reach Karachi)\n",
        "heuristic = {\n",
        "    \"Lahore\": 1200,\n",
        "    \"Islamabad\": 1150,\n",
        "    \"Faisalabad\": 1000,\n",
        "    \"Multan\": 700,\n",
        "    \"Peshawar\": 1300,\n",
        "    \"Karachi\": 0\n",
        "}\n"
      ]
    },
    {
      "cell_type": "code",
      "source": [
        "def a_star(graph, start, goal, heuristic):\n",
        "    \"\"\"\n",
        "    A* search returns (path, total_cost) or (None, inf) if no path found.\n",
        "    We store paths in the priority queue together with their f-cost = g + h.\n",
        "    \"\"\"\n",
        "    open_list = []  # priority queue (min-heap) storing tuples (f_cost, path_list)\n",
        "    # push the start node. g(start)=0 so f = 0 + h(start) = h(start)\n",
        "    heapq.heappush(open_list, (heuristic[start], [start]))\n",
        "    g_costs = {start: 0}  # dictionary to store best-known g(n) costs\n",
        "    closed_set = set()    # nodes whose best cost is finalized\n",
        "\n",
        "    # loop until there are no nodes left to expand\n",
        "    while open_list:\n",
        "        f, path = heapq.heappop(open_list)  # pop node with smallest f(n)\n",
        "        node = path[-1]                     # current node is the last in the path\n",
        "\n",
        "        # goal test\n",
        "        if node == goal:\n",
        "            return path, g_costs[node]\n",
        "\n",
        "        # skip if we already finalized this node\n",
        "        if node in closed_set:\n",
        "            continue\n",
        "\n",
        "        closed_set.add(node)  # mark node as finalized\n",
        "\n",
        "        # iterate through neighbors and edge costs\n",
        "        for neighbor, cost in graph[node].items():\n",
        "            tentative_g = g_costs[node] + cost  # g through current node to neighbor\n",
        "\n",
        "            # if neighbor unseen or we found a cheaper g, update\n",
        "            if neighbor not in g_costs or tentative_g < g_costs[neighbor]:\n",
        "                g_costs[neighbor] = tentative_g\n",
        "                f_cost = tentative_g + heuristic.get(neighbor, float('inf'))\n",
        "                new_path = path + [neighbor]\n",
        "                heapq.heappush(open_list, (f_cost, new_path))\n",
        "\n",
        "    # if open_list empties without reaching goal => no path\n",
        "    return None, float('inf')\n"
      ],
      "metadata": {
        "id": "5YiERAkiLhgc"
      },
      "execution_count": 5,
      "outputs": []
    },
    {
      "cell_type": "code",
      "source": [
        "start_city = \"Lahore\"\n",
        "goal_city = \"Karachi\"\n",
        "\n",
        "path, cost = a_star(graph, start_city, goal_city, heuristic)\n",
        "\n",
        "print(\"A* path:\", path)\n",
        "print(\"Total cost:\", cost)\n"
      ],
      "metadata": {
        "colab": {
          "base_uri": "https://localhost:8080/"
        },
        "id": "4CFgev86Ln9P",
        "outputId": "f69f23ab-8058-4701-9a4c-b89641545684"
      },
      "execution_count": 6,
      "outputs": [
        {
          "output_type": "stream",
          "name": "stdout",
          "text": [
            "A* path: ['Lahore', 'Faisalabad', 'Multan', 'Karachi']\n",
            "Total cost: 1260\n"
          ]
        }
      ]
    }
  ]
}